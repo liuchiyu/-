{
 "cells": [
  {
   "cell_type": "code",
   "execution_count": 1,
   "id": "b1d55c7d",
   "metadata": {},
   "outputs": [
    {
     "name": "stdout",
     "output_type": "stream",
     "text": [
      "(5070, 10) (1000, 9)\n",
      "编号            int64\n",
      "性别            int64\n",
      "出生年份          int64\n",
      "体重指数        float64\n",
      "糖尿病家族史       object\n",
      "舒张压         float64\n",
      "口服耐糖量测试     float64\n",
      "胰岛素释放实验     float64\n",
      "肱三头肌皮褶厚度    float64\n",
      "患有糖尿病标识       int64\n",
      "dtype: object 编号            int64\n",
      "性别            int64\n",
      "出生年份          int64\n",
      "体重指数        float64\n",
      "糖尿病家族史       object\n",
      "舒张压         float64\n",
      "口服耐糖量测试     float64\n",
      "胰岛素释放实验     float64\n",
      "肱三头肌皮褶厚度    float64\n",
      "dtype: object\n"
     ]
    }
   ],
   "source": [
    "import pandas as pd\n",
    "\n",
    "train_df = pd.read_csv('比赛训练集.csv', encoding='gbk')\n",
    "test_df = pd.read_csv('比赛测试集.csv', encoding='gbk')\n",
    "\n",
    "print(train_df.shape, test_df.shape)\n",
    "print(train_df.dtypes, test_df.dtypes)"
   ]
  },
  {
   "cell_type": "code",
   "execution_count": null,
   "id": "686609bf",
   "metadata": {},
   "outputs": [],
   "source": []
  }
 ],
 "metadata": {
  "kernelspec": {
   "display_name": "Python 3 (ipykernel)",
   "language": "python",
   "name": "python3"
  },
  "language_info": {
   "codemirror_mode": {
    "name": "ipython",
    "version": 3
   },
   "file_extension": ".py",
   "mimetype": "text/x-python",
   "name": "python",
   "nbconvert_exporter": "python",
   "pygments_lexer": "ipython3",
   "version": "3.9.7"
  }
 },
 "nbformat": 4,
 "nbformat_minor": 5
}
